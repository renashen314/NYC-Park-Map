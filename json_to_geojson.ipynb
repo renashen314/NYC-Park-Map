{
 "cells": [
  {
   "cell_type": "code",
   "execution_count": 8,
   "metadata": {},
   "outputs": [
    {
     "name": "stdout",
     "output_type": "stream",
     "text": [
      "Valid data in basketball: 553\n",
      "Invalid data in basketball: 20\n",
      "Valid data in running: 26\n",
      "Invalid data in running: 9\n"
     ]
    }
   ],
   "source": [
    "import json\n",
    "\n",
    "BASKETBALL_COURT = \"./data/DPR_Basketball_001.json\"\n",
    "RUNNING_TRACK = \"./data/DPR_RunningTracks_001.json\"\n",
    "\n",
    "with open(BASKETBALL_COURT) as f:\n",
    "    basketball = json.load(f)\n",
    "\n",
    "with open(RUNNING_TRACK) as f:\n",
    "    running = json.load(f)\n",
    "\n",
    "invalid_basketball_data = 0\n",
    "invalid_running_data = 0\n",
    "valid_running_data = 0\n",
    "valid_basketball_data = 0\n",
    "\n",
    "# Convert JSON to GeoJSON\n",
    "basketball_geojson = {\n",
    "    \"type\": \"FeatureCollection\",\n",
    "    \"features\": []\n",
    "}\n",
    "\n",
    "invalid_basketball_data = 0\n",
    "for item in basketball:\n",
    "    if item['lat'] is not None:\n",
    "        basketball_geojson['features'].append({\n",
    "                \"type\": \"Feature\",\n",
    "                \"geometry\": { \"type\": \"Point\", \"coordinates\": [float(item['lon']), float(item['lat'])]},\n",
    "                \"properties\": {key: value for key, value in item.items()}\n",
    "        })\n",
    "        valid_basketball_data += 1\n",
    "    else:\n",
    "         invalid_basketball_data += 1\n",
    "\n",
    "# Convert JSON to GeoJSON only when the coordinates are available\n",
    "running_geojson = {\n",
    "    \"type\": \"FeatureCollection\",\n",
    "    \"features\": []\n",
    "}\n",
    "for item in running:\n",
    "    if item['lat'] is not None:\n",
    "        running_geojson['features'].append({\n",
    "            \"type\": \"Feature\",\n",
    "            \"geometry\": { \"type\": \"Point\", \"coordinates\": [float(item['lon']), float(item['lat'])]},\n",
    "            \"properties\": {key: value for key, value in item.items()}\n",
    "        })\n",
    "        valid_running_data += 1\n",
    "    else:\n",
    "        invalid_running_data += 1\n",
    "\n",
    "\n",
    "# Save the GeoJSON output to a file\n",
    "# with open(\"./data/basketball-court.geojson\", \"w\") as f:\n",
    "#     json.dump(basketball_geojson, f, indent=2)\n",
    "\n",
    "# with open(\"./data/running-track.geojson\", \"w\") as f:\n",
    "#     json.dump(running_geojson, f, indent=2)\n",
    "print(f\"Valid data in basketball: {valid_basketball_data}\")\n",
    "print(f\"Invalid data in basketball: {invalid_basketball_data}\")\n",
    "print(f\"Valid data in running: {valid_running_data}\")\n",
    "print(f\"Invalid data in running: {invalid_running_data}\")"
   ]
  }
 ],
 "metadata": {
  "kernelspec": {
   "display_name": "Python 3",
   "language": "python",
   "name": "python3"
  },
  "language_info": {
   "codemirror_mode": {
    "name": "ipython",
    "version": 3
   },
   "file_extension": ".py",
   "mimetype": "text/x-python",
   "name": "python",
   "nbconvert_exporter": "python",
   "pygments_lexer": "ipython3",
   "version": "3.11.5"
  }
 },
 "nbformat": 4,
 "nbformat_minor": 2
}
